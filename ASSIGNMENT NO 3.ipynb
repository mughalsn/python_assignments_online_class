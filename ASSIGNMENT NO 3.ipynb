{
 "cells": [
  {
   "cell_type": "markdown",
   "metadata": {},
   "source": [
    "1. Make a calculator using Python with addition , subtraction , multiplication ,\n",
    "division and power.\n"
   ]
  },
  {
   "cell_type": "code",
   "execution_count": 1,
   "metadata": {},
   "outputs": [
    {
     "name": "stdout",
     "output_type": "stream",
     "text": [
      "Select the operators from below: \n",
      "For addition use + \n",
      "For subtraction use - \n",
      "For multiplication use *\n",
      "For division use /\n",
      "For power use **\n",
      "-----------\n",
      "Enter operator : **\n",
      "-----------\n",
      "Enter first number: 7\n",
      "-----------\n",
      "Enter second number: 2\n",
      "-----------\n",
      "7.0 to the power 2.0 = 49.0\n"
     ]
    }
   ],
   "source": [
    "print(\"Select the operators from below: \\nFor addition use + \\nFor subtraction use - \\nFor multiplication use *\\nFor division use /\\nFor power use **\" )\n",
    "list_of_operators = ['+','-','*','/','**']\n",
    "print(\"-----------\")\n",
    "operator = input(\"Enter operator : \")\n",
    "print(\"-----------\")\n",
    "if operator in list_of_operators:\n",
    "    value_1 = float(input(\"Enter first number: \"))\n",
    "    print(\"-----------\")\n",
    "    value_2 = float(input(\"Enter second number: \"))\n",
    "    print(\"-----------\")\n",
    "    if operator == \"+\":\n",
    "        print(value_1 + value_2)\n",
    "    elif operator == \"-\":\n",
    "        print(value_1 - value_2)\n",
    "    elif operator == \"*\":\n",
    "        print(value_1 * value_2)\n",
    "    elif operator == \"/\":\n",
    "        print(value_1 / value_2)\n",
    "    elif operator == \"**\":\n",
    "        print(value_1,\"to the power\",value_2,\"=\",value_1 ** value_2)\n",
    "else:\n",
    "    print(\"Invalid operator\")\n"
   ]
  },
  {
   "cell_type": "markdown",
   "metadata": {},
   "source": [
    "2. Write a program to check if there is any numeric value in list using for loop"
   ]
  },
  {
   "cell_type": "code",
   "execution_count": 4,
   "metadata": {},
   "outputs": [
    {
     "name": "stdout",
     "output_type": "stream",
     "text": [
      "The list is : [True, 'hello', 1.5, 'world', 6]\n",
      "\n",
      "Numeric values found in list!\n"
     ]
    }
   ],
   "source": [
    "my_list = [ True, 'hello',1.5, \"world\",6]\n",
    "print(\"The list is :\", my_list)\n",
    "\n",
    "numeric = False\n",
    "\n",
    "for i in my_list:\n",
    "    if type(i) == int or type(i) == float:\n",
    "        print(\"\\nNumeric values found in list!\")\n",
    "        numeric = True\n",
    "        break\n",
    "\n",
    "if not numeric:\n",
    "    print(\"\\nNo numeric values found in list!\")"
   ]
  },
  {
   "cell_type": "markdown",
   "metadata": {},
   "source": [
    "3. Write a Python script to add a key to a dictionary "
   ]
  },
  {
   "cell_type": "code",
   "execution_count": 3,
   "metadata": {},
   "outputs": [
    {
     "name": "stdout",
     "output_type": "stream",
     "text": [
      "{'Name': 'Sabila', 'Father name': 'Hafeez', 'Course': 'AI'}\n",
      "{'Name': 'Sabila', 'Father name': 'Hafeez', 'Course': 'AI', 'Place of Birth': 'Karachi'}\n"
     ]
    }
   ],
   "source": [
    "dictionary = {'Name': \"Sabila\",\"Father name\":\"Hafeez\" ,\"Course\":\"AI\"}\n",
    "print(dictionary)\n",
    "dictionary['Place of Birth'] = 'Karachi'\n",
    "print(dictionary)"
   ]
  },
  {
   "cell_type": "markdown",
   "metadata": {},
   "source": [
    "4. Write a Python program to sum all the numeric items in a dictionary"
   ]
  },
  {
   "cell_type": "code",
   "execution_count": 5,
   "metadata": {},
   "outputs": [
    {
     "name": "stdout",
     "output_type": "stream",
     "text": [
      "The dictionary is :  {'one': 1, 'two': '2', 'three': 3.5}\n",
      "The sum of all numeric items in the dictionary is :  4.5\n"
     ]
    }
   ],
   "source": [
    "numbers = {'one':1,'two':'2','three':3.5}\n",
    "print(\"The dictionary is : \" ,numbers)\n",
    "sum_of_numeric_items = 0\n",
    "for v in numbers.values():\n",
    "    if type(v) == int or type(v) == float:\n",
    "        sum_of_numeric_items += v\n",
    "print(\"The sum of all numeric items in the dictionary is : \",sum_of_numeric_items)"
   ]
  },
  {
   "cell_type": "markdown",
   "metadata": {},
   "source": [
    "5. Write a program to identify duplicate values from list"
   ]
  },
  {
   "cell_type": "code",
   "execution_count": 18,
   "metadata": {},
   "outputs": [
    {
     "name": "stdout",
     "output_type": "stream",
     "text": [
      "[1, 2, 1, 2, 3, 4, 5, 6, 7, 1, 1]\n",
      "Duplicate values from the list are :  [1, 2]\n"
     ]
    }
   ],
   "source": [
    "#list_2 = [1,2,3,1,4,8,9,4,9]\n",
    "list_2 = [1, 2, 1, 2, 3, 4, 5, 6, 7, 1, 1]\n",
    "print(list_2)\n",
    "dup_values = []\n",
    "for i in list_2:\n",
    "    if list_2.count(i) > 1:\n",
    "        dup_values.append(i)\n",
    "        \n",
    "        while list_2.count(i)!=0:\n",
    "            list_2.remove(i)\n",
    "            \n",
    "if len(dup_values) > 0:\n",
    "    print(\"Duplicate values from the list are : \" ,dup_values)\n",
    "else:\n",
    "    print(\"No duplicate values are present in the list\")"
   ]
  },
  {
   "cell_type": "markdown",
   "metadata": {},
   "source": [
    "6. Write a Python script to check if a given key already exists in a dictionary"
   ]
  },
  {
   "cell_type": "code",
   "execution_count": 6,
   "metadata": {},
   "outputs": [
    {
     "name": "stdout",
     "output_type": "stream",
     "text": [
      "key does not exists in dictionary \n"
     ]
    }
   ],
   "source": [
    "grocery_items = {'fruit':'apple','vegetable':'carrot','meat':'chicken','snacks':'chips'}\n",
    "key = 'cereals'\n",
    "if key in grocery_items:\n",
    "    print(\"key exists in dictionary\")\n",
    "else:\n",
    "    print(\"key does not exists in dictionary \")\n"
   ]
  },
  {
   "cell_type": "code",
   "execution_count": null,
   "metadata": {},
   "outputs": [],
   "source": []
  }
 ],
 "metadata": {
  "kernelspec": {
   "display_name": "Python 3",
   "language": "python",
   "name": "python3"
  },
  "language_info": {
   "codemirror_mode": {
    "name": "ipython",
    "version": 3
   },
   "file_extension": ".py",
   "mimetype": "text/x-python",
   "name": "python",
   "nbconvert_exporter": "python",
   "pygments_lexer": "ipython3",
   "version": "3.7.3"
  }
 },
 "nbformat": 4,
 "nbformat_minor": 2
}
